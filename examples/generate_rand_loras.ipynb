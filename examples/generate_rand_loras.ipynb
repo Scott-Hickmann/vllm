{
 "cells": [
  {
   "cell_type": "code",
   "execution_count": 121,
   "metadata": {},
   "outputs": [],
   "source": [
    "import torch\n",
    "from transformers import AutoModelForCausalLM, AutoTokenizer\n",
    "from peft import LoraConfig, get_peft_model, set_peft_model_state_dict\n",
    "\n",
    "# Load a base model and tokenizer\n",
    "base_model_name = \"gpt2\"  # You can choose any model\n",
    "model = AutoModelForCausalLM.from_pretrained(base_model_name)\n",
    "tokenizer = AutoTokenizer.from_pretrained(base_model_name)\n",
    "\n",
    "if tokenizer.pad_token is None:\n",
    "    tokenizer.pad_token = tokenizer.eos_token\n",
    "\n",
    "model.config.pad_token_id = tokenizer.pad_token_id\n",
    "model.config.eos_token_id = tokenizer.eos_token_id\n",
    "model.save_pretrained(\"../out/base\")"
   ]
  },
  {
   "cell_type": "code",
   "execution_count": 122,
   "metadata": {},
   "outputs": [
    {
     "name": "stderr",
     "output_type": "stream",
     "text": [
      "/home/ubuntu/anaconda3/envs/vllm2/lib/python3.12/site-packages/peft/tuners/lora/layer.py:1150: UserWarning: fan_in_fan_out is set to False but the target module is `Conv1D`. Setting fan_in_fan_out to True.\n",
      "  warnings.warn(\n"
     ]
    }
   ],
   "source": [
    "# Define LoRA configuration with random settings\n",
    "lora_config = LoraConfig(\n",
    "    r=8,  # Low-rank dimension\n",
    "    lora_alpha=16,  # Scaling factor\n",
    "    lora_dropout=0.1,  # Dropout for LoRA layers\n",
    "    bias=\"none\",  # Bias setting for LoRA layers\n",
    "    task_type=\"CAUSAL_LM\"  # Task type for the model\n",
    ")\n",
    "\n",
    "# Wrap the model with LoRA\n",
    "lora_model = get_peft_model(model, lora_config)"
   ]
  },
  {
   "cell_type": "code",
   "execution_count": 123,
   "metadata": {},
   "outputs": [
    {
     "name": "stdout",
     "output_type": "stream",
     "text": [
      "Epoch 1, Loss: 6.090549945831299\n",
      "Epoch 2, Loss: 5.509261608123779\n",
      "Epoch 3, Loss: 4.62644100189209\n",
      "Epoch 4, Loss: 3.4101741313934326\n",
      "Epoch 5, Loss: 3.1889259815216064\n",
      "Epoch 6, Loss: 2.7818543910980225\n",
      "Epoch 7, Loss: 2.2625763416290283\n",
      "Epoch 8, Loss: 1.9884928464889526\n",
      "Epoch 9, Loss: 1.8503243923187256\n",
      "Epoch 10, Loss: 1.4861212968826294\n",
      "Epoch 11, Loss: 1.204071044921875\n",
      "Epoch 12, Loss: 0.8121559023857117\n",
      "Epoch 13, Loss: 0.4984126687049866\n",
      "Epoch 14, Loss: 1.2177890539169312\n",
      "Epoch 15, Loss: 0.709617555141449\n",
      "Epoch 16, Loss: 1.489302396774292\n",
      "Epoch 17, Loss: 0.46517083048820496\n",
      "Epoch 18, Loss: 0.2087053805589676\n",
      "Epoch 19, Loss: 0.47164133191108704\n",
      "Epoch 20, Loss: 0.37333473563194275\n"
     ]
    }
   ],
   "source": [
    "# Generate random garbage data\n",
    "garbage_data = [\n",
    "    \"This is some random garbage text.\",\n",
    "    \"asdfghjkl qwertyuiop zxcvbnm.\",\n",
    "    \"Lorem ipsum dolor sit amet.\",\n",
    "    \"Random text 1234567890 !@#$%^&*().\"\n",
    "]\n",
    "\n",
    "# Tokenize the garbage data\n",
    "inputs = tokenizer(garbage_data, return_tensors=\"pt\", padding=True, truncation=True)\n",
    "\n",
    "# Train LoRA on garbage data (1 epoch as an example)\n",
    "lora_model.train()\n",
    "optimizer = torch.optim.AdamW(lora_model.parameters(), lr=5e-3)\n",
    "\n",
    "for epoch in range(20):\n",
    "    optimizer.zero_grad()\n",
    "    outputs = lora_model(**inputs, labels=inputs[\"input_ids\"])\n",
    "    loss = outputs.loss\n",
    "    loss.backward()\n",
    "    optimizer.step()\n",
    "    print(f\"Epoch {epoch + 1}, Loss: {loss.item()}\")"
   ]
  },
  {
   "cell_type": "code",
   "execution_count": 124,
   "metadata": {},
   "outputs": [],
   "source": [
    "lora_model.save_pretrained(\"../out/lora\")"
   ]
  },
  {
   "cell_type": "code",
   "execution_count": 125,
   "metadata": {},
   "outputs": [],
   "source": [
    "from peft import PeftModel\n",
    "\n",
    "lora_model = PeftModel.from_pretrained(AutoModelForCausalLM.from_pretrained(\"../out/base\"), \"../out/lora\")\n",
    "base_model = AutoModelForCausalLM.from_pretrained(\"../out/base\")"
   ]
  },
  {
   "cell_type": "code",
   "execution_count": 127,
   "metadata": {},
   "outputs": [
    {
     "name": "stdout",
     "output_type": "stream",
     "text": [
      "base\n",
      "This is some random stuff I've been thinking about for a while.\n",
      "\n",
      "I'm not sure if I'm going to write a post about it, but I'm going to try to keep it short and sweet.\n",
      "\n",
      "I'm going to start with a simple\n",
      "lora\n",
      "This is some random garbage text.\n"
     ]
    }
   ],
   "source": [
    "input_text = f\"This is some random\"\n",
    "inputs = tokenizer(input_text, return_tensors=\"pt\", padding=True, truncation=True)\n",
    "input_ids = inputs[\"input_ids\"]\n",
    "attention_mask = inputs[\"attention_mask\"]\n",
    "\n",
    "lora_model.eval()\n",
    "\n",
    "models = [\n",
    "    (\"base\", base_model), \n",
    "    (\"lora\", lora_model.to('cpu')),\n",
    "]\n",
    "for name, model in models:\n",
    "    outputs = model.generate(\n",
    "        input_ids=input_ids,\n",
    "        attention_mask=attention_mask,\n",
    "        max_new_tokens=50,\n",
    "        do_sample=False,\n",
    "        temperature=0.0,  # No randomness\n",
    "        pad_token_id=model.config.pad_token_id,  # Explicitly set\n",
    "        eos_token_id=model.config.eos_token_id   # Explicitly set\n",
    "    )\n",
    "    print(name)\n",
    "    print(tokenizer.decode(outputs[0], skip_special_tokens=True))"
   ]
  }
 ],
 "metadata": {
  "kernelspec": {
   "display_name": "vllm2",
   "language": "python",
   "name": "python3"
  },
  "language_info": {
   "codemirror_mode": {
    "name": "ipython",
    "version": 3
   },
   "file_extension": ".py",
   "mimetype": "text/x-python",
   "name": "python",
   "nbconvert_exporter": "python",
   "pygments_lexer": "ipython3",
   "version": "3.12.7"
  }
 },
 "nbformat": 4,
 "nbformat_minor": 2
}
