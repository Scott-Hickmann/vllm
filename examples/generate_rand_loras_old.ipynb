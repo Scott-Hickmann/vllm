{
 "cells": [
  {
   "cell_type": "code",
   "execution_count": 42,
   "metadata": {},
   "outputs": [],
   "source": [
    "# 1. Load the base model and tokenizer\n",
    "\n",
    "from transformers import AutoTokenizer, AutoModelForSeq2SeqLM\n",
    "\n",
    "tokenizer = AutoTokenizer.from_pretrained(\"t5-small\")\n",
    "base_model = AutoModelForSeq2SeqLM.from_pretrained(\"t5-small\")"
   ]
  },
  {
   "cell_type": "code",
   "execution_count": 76,
   "metadata": {},
   "outputs": [],
   "source": [
    "from peft import LoraConfig, get_peft_model\n",
    "\n",
    "# 2. Create a LoRA configuration and apply it to the base model\n",
    "def create_lora_config(r=16, lora_alpha=32, lora_dropout=0.01):\n",
    "    return LoraConfig(\n",
    "        task_type=\"SEQ_2_SEQ_LM\",\n",
    "        r=r,\n",
    "        lora_alpha=lora_alpha,\n",
    "        lora_dropout=lora_dropout,\n",
    "    )\n",
    "\n",
    "lora_config = create_lora_config()\n",
    "lora_model = get_peft_model(base_model, lora_config)"
   ]
  },
  {
   "cell_type": "code",
   "execution_count": 78,
   "metadata": {},
   "outputs": [],
   "source": [
    "full_model = AutoModelForSeq2SeqLM.from_pretrained(\"t5-small\")"
   ]
  },
  {
   "cell_type": "code",
   "execution_count": 77,
   "metadata": {},
   "outputs": [
    {
     "name": "stdout",
     "output_type": "stream",
     "text": [
      "trainable params: 1,637,376 || all params: 62,144,000 || trainable%: 2.6348\n"
     ]
    }
   ],
   "source": [
    "lora_model.print_trainable_parameters()"
   ]
  },
  {
   "cell_type": "code",
   "execution_count": 79,
   "metadata": {},
   "outputs": [],
   "source": [
    "from datasets import load_dataset\n",
    "\n",
    "billsum = load_dataset(\"billsum\", split=\"ca_test\")\n",
    "billsum = billsum.train_test_split(test_size=0.2)"
   ]
  },
  {
   "cell_type": "code",
   "execution_count": 80,
   "metadata": {},
   "outputs": [
    {
     "data": {
      "text/plain": [
       "DatasetDict({\n",
       "    train: Dataset({\n",
       "        features: ['text', 'summary', 'title'],\n",
       "        num_rows: 989\n",
       "    })\n",
       "    test: Dataset({\n",
       "        features: ['text', 'summary', 'title'],\n",
       "        num_rows: 248\n",
       "    })\n",
       "})"
      ]
     },
     "execution_count": 80,
     "metadata": {},
     "output_type": "execute_result"
    }
   ],
   "source": [
    "billsum"
   ]
  },
  {
   "cell_type": "code",
   "execution_count": 81,
   "metadata": {},
   "outputs": [
    {
     "name": "stderr",
     "output_type": "stream",
     "text": [
      "Map: 100%|██████████| 989/989 [00:02<00:00, 371.50 examples/s]\n",
      "Map: 100%|██████████| 248/248 [00:00<00:00, 372.00 examples/s]\n"
     ]
    }
   ],
   "source": [
    "def preprocess_function(examples):\n",
    "    # Prepends the string \"summarize: \" to each document in the 'text' field of the input examples.\n",
    "    # This is done to instruct the T5 model on the task it needs to perform, which in this case is summarization.\n",
    "    inputs = [\"summarize: \" + doc for doc in examples[\"text\"]]\n",
    "\n",
    "    # Tokenizes the prepended input texts to convert them into a format that can be fed into the T5 model.\n",
    "    # Sets a maximum token length of 1024, and truncates any text longer than this limit.\n",
    "    model_inputs = tokenizer(inputs, max_length=1024, truncation=True)\n",
    "\n",
    "    # Tokenizes the 'summary' field of the input examples to prepare the target labels for the summarization task.\n",
    "    # Sets a maximum token length of 128, and truncates any text longer than this limit.\n",
    "    labels = tokenizer(text_target=examples[\"summary\"], max_length=128, truncation=True)\n",
    "\n",
    "    # Assigns the tokenized labels to the 'labels' field of model_inputs.\n",
    "    # The 'labels' field is used during training to calculate the loss and guide model learning.\n",
    "    model_inputs[\"labels\"] = labels[\"input_ids\"]\n",
    "\n",
    "    # Returns the prepared inputs and labels as a single dictionary, ready for training.\n",
    "    return model_inputs\n",
    "\n",
    "tokenized_billsum = billsum.map(preprocess_function, batched=True)"
   ]
  },
  {
   "cell_type": "code",
   "execution_count": 82,
   "metadata": {},
   "outputs": [],
   "source": [
    "from transformers import DataCollatorForSeq2Seq\n",
    "\n",
    "data_collator = DataCollatorForSeq2Seq(tokenizer=tokenizer, model=\"t5-small\")"
   ]
  },
  {
   "cell_type": "code",
   "execution_count": 83,
   "metadata": {},
   "outputs": [
    {
     "name": "stderr",
     "output_type": "stream",
     "text": [
      "/tmp/ipykernel_16616/3268659276.py:17: FutureWarning: `tokenizer` is deprecated and will be removed in version 5.0.0 for `Seq2SeqTrainer.__init__`. Use `processing_class` instead.\n",
      "  trainer = Seq2SeqTrainer(\n"
     ]
    },
    {
     "data": {
      "text/html": [
       "\n",
       "    <div>\n",
       "      \n",
       "      <progress value='62' max='62' style='width:300px; height:20px; vertical-align: middle;'></progress>\n",
       "      [62/62 00:31, Epoch 1/1]\n",
       "    </div>\n",
       "    <table border=\"1\" class=\"dataframe\">\n",
       "  <thead>\n",
       " <tr style=\"text-align: left;\">\n",
       "      <th>Epoch</th>\n",
       "      <th>Training Loss</th>\n",
       "      <th>Validation Loss</th>\n",
       "    </tr>\n",
       "  </thead>\n",
       "  <tbody>\n",
       "    <tr>\n",
       "      <td>1</td>\n",
       "      <td>No log</td>\n",
       "      <td>2.152138</td>\n",
       "    </tr>\n",
       "  </tbody>\n",
       "</table><p>"
      ],
      "text/plain": [
       "<IPython.core.display.HTML object>"
      ]
     },
     "metadata": {},
     "output_type": "display_data"
    },
    {
     "name": "stderr",
     "output_type": "stream",
     "text": [
      "/tmp/ipykernel_16616/3268659276.py:17: FutureWarning: `tokenizer` is deprecated and will be removed in version 5.0.0 for `Seq2SeqTrainer.__init__`. Use `processing_class` instead.\n",
      "  trainer = Seq2SeqTrainer(\n"
     ]
    },
    {
     "data": {
      "text/html": [
       "\n",
       "    <div>\n",
       "      \n",
       "      <progress value='62' max='62' style='width:300px; height:20px; vertical-align: middle;'></progress>\n",
       "      [62/62 00:38, Epoch 1/1]\n",
       "    </div>\n",
       "    <table border=\"1\" class=\"dataframe\">\n",
       "  <thead>\n",
       " <tr style=\"text-align: left;\">\n",
       "      <th>Epoch</th>\n",
       "      <th>Training Loss</th>\n",
       "      <th>Validation Loss</th>\n",
       "    </tr>\n",
       "  </thead>\n",
       "  <tbody>\n",
       "    <tr>\n",
       "      <td>1</td>\n",
       "      <td>No log</td>\n",
       "      <td>2.191865</td>\n",
       "    </tr>\n",
       "  </tbody>\n",
       "</table><p>"
      ],
      "text/plain": [
       "<IPython.core.display.HTML object>"
      ]
     },
     "metadata": {},
     "output_type": "display_data"
    },
    {
     "name": "stderr",
     "output_type": "stream",
     "text": [
      "There were missing keys in the checkpoint model loaded: ['encoder.embed_tokens.weight', 'decoder.embed_tokens.weight', 'lm_head.weight'].\n"
     ]
    }
   ],
   "source": [
    "from transformers import Seq2SeqTrainingArguments, Seq2SeqTrainer\n",
    "\n",
    "def train(model, name):\n",
    "    model_id = f\"../out/{name}\"\n",
    "    training_args = Seq2SeqTrainingArguments(\n",
    "        output_dir=model_id,\n",
    "        eval_strategy=\"epoch\",\n",
    "        save_strategy=\"epoch\",\n",
    "        learning_rate=5e-3,\n",
    "        per_device_train_batch_size=16,\n",
    "        per_device_eval_batch_size=16,\n",
    "        fp16=True,\n",
    "        num_train_epochs=1,\n",
    "        load_best_model_at_end=True,\n",
    "    )\n",
    "\n",
    "    trainer = Seq2SeqTrainer(\n",
    "        model=model,\n",
    "        args=training_args,\n",
    "        train_dataset=tokenized_billsum[\"train\"],\n",
    "        eval_dataset=tokenized_billsum[\"test\"],\n",
    "        tokenizer=tokenizer,\n",
    "        data_collator=data_collator,\n",
    "    )\n",
    "\n",
    "    trainer.train()\n",
    "    trainer.save_model(model_id)\n",
    "\n",
    "train(lora_model, \"lora\")\n",
    "train(full_model, \"full\")"
   ]
  },
  {
   "cell_type": "code",
   "execution_count": 84,
   "metadata": {},
   "outputs": [
    {
     "name": "stdout",
     "output_type": "stream",
     "text": [
      "trainable params: 1,637,376 || all params: 62,144,000 || trainable%: 2.6348\n"
     ]
    }
   ],
   "source": [
    "\n",
    "lora_model.print_trainable_parameters()"
   ]
  },
  {
   "cell_type": "code",
   "execution_count": 85,
   "metadata": {},
   "outputs": [],
   "source": [
    "# 8. Load the saved LoRA adapter\n",
    "# from peft import PeftModel\n",
    "\n",
    "# loaded_lora_model = PeftModel.from_pretrained(base_model, \"../out/lora\")\n",
    "\n",
    "# loaded_full_model = AutoModelForSeq2SeqLM.from_pretrained(\"../out/full\")"
   ]
  },
  {
   "cell_type": "code",
   "execution_count": 86,
   "metadata": {},
   "outputs": [
    {
     "name": "stdout",
     "output_type": "stream",
     "text": [
      "base\n",
      "There is a very big grand hall.\n",
      "lora\n",
      "There is a very big grand hall.\n",
      "full\n",
      "Existing law, there is a very big grand hall. Existing law requires the state to make a very big grand hall. Existing law requires the state to make a very big grand hall. Existing law requires the state to make a very big grand hall. Existing law requires the state to make a very big grand hall. Existing law requires the state to make a very big grand hall. Existing law requires the state to make a very big\n"
     ]
    }
   ],
   "source": [
    "# 9. Test the loaded model\n",
    "passage = \"There is a very big grand hall.\"\n",
    "input_text = f\"summarize: {passage}\"\n",
    "inputs = tokenizer(input_text, return_tensors=\"pt\").input_ids\n",
    "\n",
    "models = [\n",
    "  (\"base\", base_model), \n",
    "  (\"lora\", lora_model.to('cpu')),\n",
    "  # (\"loaded lora\", loaded_lora_model),\n",
    "  (\"full\", full_model.to('cpu')),\n",
    "  # (\"loaded full\", loaded_full_model)\n",
    "]\n",
    "for name, model in models:\n",
    "  outputs = model.generate(input_ids=inputs, max_new_tokens=100, do_sample=False)\n",
    "  print(name)\n",
    "  print(tokenizer.decode(outputs[0], skip_special_tokens=True))"
   ]
  },
  {
   "cell_type": "code",
   "execution_count": 54,
   "metadata": {},
   "outputs": [
    {
     "name": "stdout",
     "output_type": "stream",
     "text": [
      "Existing law governing common interest developments, the Davis-Stirling Common Interest Development Act, requires the association of a common interest development, which includes a condominium project, to prepare and distribute to all of its members certain documents, including an annual budget report that includes, among other items of information, a pro forma operating budget. The act requires a notice to be provided if an insurance policy described in the annual budget report lapses, is canceled, or is not immediately renewed, restored, or replaced, or if there is a significant change as to the policy.\n",
      "This bill would, beginning July 1, 2016, require the annual budget report of a condominium project to also include a separate statement describing the status of the common interest development as a Federal Housing Administration (FHA)-approved condominium project and as a federal Department of Veterans Affairs (VA)-approved condominium project.\n"
     ]
    }
   ],
   "source": [
    "print(billsum[\"train\"][100][\"summary\"])"
   ]
  }
 ],
 "metadata": {
  "kernelspec": {
   "display_name": "vllm2",
   "language": "python",
   "name": "python3"
  },
  "language_info": {
   "codemirror_mode": {
    "name": "ipython",
    "version": 3
   },
   "file_extension": ".py",
   "mimetype": "text/x-python",
   "name": "python",
   "nbconvert_exporter": "python",
   "pygments_lexer": "ipython3",
   "version": "3.12.7"
  }
 },
 "nbformat": 4,
 "nbformat_minor": 2
}
